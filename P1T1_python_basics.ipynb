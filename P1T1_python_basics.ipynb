{
  "nbformat": 4,
  "nbformat_minor": 0,
  "metadata": {
    "colab": {
      "name": "P1T1_python_basics.ipynb",
      "provenance": [],
      "toc_visible": true,
      "collapsed_sections": []
    },
    "kernelspec": {
      "name": "python3",
      "display_name": "Python 3"
    },
    "language_info": {
      "name": "python"
    }
  },
  "cells": [
    {
      "cell_type": "markdown",
      "source": [
        "#Step 1 : Load libraries"
      ],
      "metadata": {
        "id": "6HK_H7BVqIz6"
      }
    },
    {
      "cell_type": "markdown",
      "source": [
        "#Description:\n",
        "\n",
        "---\n",
        "\n",
        "* @Author : Juan Camilo Argüelles Ardila\n",
        "* @Date : 2022/02/12\n",
        "* @Description : this notebook is done in order to take into account the basics of python"
      ],
      "metadata": {
        "id": "VrwtAzwXzSjX"
      }
    },
    {
      "cell_type": "markdown",
      "source": [
        "#Basic Excersices\n",
        "##Excersice 1:Productos + IVA\n"
      ],
      "metadata": {
        "id": "RZlzxW4Hz8cG"
      }
    },
    {
      "cell_type": "code",
      "source": [
        "product1 = int(input(\"Enter product 1 : \"))\n",
        "product2 = int(input(\"Enter product 2 : \"))\n",
        "product3 = int(input(\"Enter product 3 : \"))\n",
        "product4 = int(input(\"Enter product 4 : \"))\n",
        "product5 = int(input(\"Enter product 5 : \"))\n",
        "\n",
        "sum = (product1 + product2 + product3 + product4 + product5)\n",
        "iva = sum * 0.19\n",
        "total = sum + iva\n",
        "print(\"Total value : \", sum, \"\\nIVA : \",iva,\"\\nTOTAL : \", total)"
      ],
      "metadata": {
        "colab": {
          "base_uri": "https://localhost:8080/"
        },
        "id": "9fgUioHA0WRG",
        "outputId": "d06062bd-dcbd-42d2-adfc-222ed31bdffd"
      },
      "execution_count": null,
      "outputs": [
        {
          "output_type": "stream",
          "name": "stdout",
          "text": [
            "Enter product 1 : 1\n",
            "Enter product 2 : 2\n",
            "Enter product 3 : 3\n",
            "Enter product 4 : 4\n",
            "Enter product 5 : 5\n",
            "Total value :  15 \n",
            "IVA :  2.85 \n",
            "TOTAL :  17.85\n"
          ]
        }
      ]
    },
    {
      "cell_type": "markdown",
      "source": [
        "#Same excersice 1 but python version\n",
        "\n"
      ],
      "metadata": {
        "id": "MO_RiKdD33ie"
      }
    },
    {
      "cell_type": "code",
      "source": [
        "product1, product2, product3, product4, product5=input(\"Input the product : \").split(\",\")\n",
        "sum = (product1+ product2 + product3 + product4 +product5)\n",
        "print(sum)"
      ],
      "metadata": {
        "colab": {
          "base_uri": "https://localhost:8080/"
        },
        "id": "BnH_BSUQ31kX",
        "outputId": "e942eaba-2cfc-4329-82aa-be03a5b2613d"
      },
      "execution_count": null,
      "outputs": [
        {
          "output_type": "stream",
          "name": "stdout",
          "text": [
            "Input the product : 1,2,3,4,5\n",
            "12345\n"
          ]
        }
      ]
    },
    {
      "cell_type": "code",
      "source": [
        "n1 = int(input(\"Type number 1 : \"))\n",
        "n2 = int(input(\"Type  number 2 : \"))\n",
        "n3 = int(input(\"Type number 3 : \"))\n",
        "\n",
        "if n1 > n2 and n1 > n3:\n",
        "  print(n1, \"is bigger\")\n",
        "elif(n2 > n1 and n2 > n3):\n",
        "  print(n2, \" is bigger\")\n",
        "elif(n3 > n1 and n3 > n2):\n",
        "  print(n3, \" is bigger\")\n",
        "\n",
        "if n1 < n2 and n1 < n3:\n",
        "  print(n1, \"is minor\")\n",
        "elif(n2 < n1 and n2 < n3):\n",
        "  print(n2, \" is minor\")\n",
        "elif(n3 < n1 and n3 < n2):\n",
        "  print(n3, \" is minor\")\n",
        "\n",
        "average = (n1 + n2 + n3) / 3\n",
        "print(\"Average : \",average)\n"
      ],
      "metadata": {
        "colab": {
          "base_uri": "https://localhost:8080/"
        },
        "id": "sRmG9_EJ6G9P",
        "outputId": "526873cd-cb1e-4d7c-f0dc-f723a7ee2df3"
      },
      "execution_count": null,
      "outputs": [
        {
          "output_type": "stream",
          "name": "stdout",
          "text": [
            "Type number 1 : 1\n",
            "Type  number 2 : 2\n",
            "Type number 3 : 3\n",
            "3  is bigger\n",
            "1 is minor\n",
            "Average :  2.0\n"
          ]
        }
      ]
    },
    {
      "cell_type": "markdown",
      "source": [
        "#Version python"
      ],
      "metadata": {
        "id": "IMuAbtWn8qnR"
      }
    },
    {
      "cell_type": "code",
      "source": [
        "x, y, z = [int(x) for x in input(\"Enter two values: \").split()]\n",
        "print(\"Min: \", min(x, y, z), \"\\nMax : \",max(x, y, z), \"\\nAverage : \",((x + y + z)/3))"
      ],
      "metadata": {
        "colab": {
          "base_uri": "https://localhost:8080/"
        },
        "id": "6C0fEnX3c5Ux",
        "outputId": "2ea360e7-681b-41a4-9d39-bf6df6c4e702"
      },
      "execution_count": 13,
      "outputs": [
        {
          "output_type": "stream",
          "name": "stdout",
          "text": [
            "Enter two values: 2 4 1\n",
            "Min:  1 \n",
            "Max :  4 \n",
            "Average :  2.3333333333333335\n"
          ]
        }
      ]
    },
    {
      "cell_type": "code",
      "source": [
        "import random\n",
        "\n",
        "lst = []\n",
        "num = int(input(\"Type the length of the list : \"))\n",
        "\n",
        "for n in range(num):\n",
        "  numbers = random.randint(0, 9)\n",
        "  lst.append(numbers)\n",
        "\n",
        "lst.sort()\n",
        "print(\"Sorted : \",lst)\n",
        "lst.sort(reverse=True)\n",
        "print(\"Sorted : \",lst)\n"
      ],
      "metadata": {
        "colab": {
          "base_uri": "https://localhost:8080/"
        },
        "id": "4EldYf46A8Bx",
        "outputId": "dc5ad954-912e-425d-8eff-c832d2d51280"
      },
      "execution_count": null,
      "outputs": [
        {
          "output_type": "stream",
          "name": "stdout",
          "text": [
            "Type the length of the list : 3\n",
            "Sorted :  [4, 5, 6]\n",
            "Sorted :  [6, 5, 4]\n"
          ]
        }
      ]
    }
  ]
}